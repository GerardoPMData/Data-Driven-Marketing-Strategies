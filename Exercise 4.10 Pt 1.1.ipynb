{
 "cells": [
  {
   "cell_type": "markdown",
   "id": "744d0234-66a3-41fa-81cd-2a1a4868ee27",
   "metadata": {},
   "source": [
    "# Exercise 4.10 Pt 1.1 - Gerardo Pérez"
   ]
  },
  {
   "cell_type": "code",
   "execution_count": 1,
   "id": "5e813c7a-355f-4ecc-8077-5110cc10d396",
   "metadata": {},
   "outputs": [],
   "source": [
    "# 1. Importing libraries and dataframes:\n",
    "import pandas as pd\n",
    "import numpy as np\n",
    "import os\n",
    "import matplotlib.pyplot as plt\n",
    "import seaborn as sns\n",
    "import scipy"
   ]
  },
  {
   "cell_type": "code",
   "execution_count": 3,
   "id": "87e896b1-95a0-461b-97d2-993b9b5041f8",
   "metadata": {},
   "outputs": [],
   "source": [
    "path = r'C:\\Users\\geram\\OneDrive\\Escritorio\\Data Analysis\\Instacart Basket Analysis'"
   ]
  },
  {
   "cell_type": "code",
   "execution_count": 5,
   "id": "7a5626d1-c4f0-4a92-854b-460d018998ce",
   "metadata": {},
   "outputs": [],
   "source": [
    "final_OPC = pd.read_pickle(os.path.join(path, '02 Data', 'Prepared Data', 'comb_cust_ords_prods.pkl'))"
   ]
  },
  {
   "cell_type": "code",
   "execution_count": 7,
   "id": "ad2e28be-f730-40bb-9e3a-b0020e7d148f",
   "metadata": {},
   "outputs": [
    {
     "data": {
      "text/plain": [
       "(32404859, 27)"
      ]
     },
     "execution_count": 7,
     "metadata": {},
     "output_type": "execute_result"
    }
   ],
   "source": [
    "final_OPC.shape"
   ]
  },
  {
   "cell_type": "code",
   "execution_count": 12,
   "id": "a668864b-2705-4357-9845-830fe5e4e571",
   "metadata": {},
   "outputs": [
    {
     "data": {
      "text/plain": [
       "<bound method NDFrame.describe of            order_id user_id  order_number  orders_day_of_week  order_by_hour  \\\n",
       "0               2.0  202279             3                   5              9   \n",
       "1               2.0  202279             3                   5              9   \n",
       "2               2.0  202279             3                   5              9   \n",
       "3               2.0  202279             3                   5              9   \n",
       "4               2.0  202279             3                   5              9   \n",
       "...             ...     ...           ...                 ...            ...   \n",
       "32404854  3421083.0   25247            24                   2              6   \n",
       "32404855  3421083.0   25247            24                   2              6   \n",
       "32404856  3421083.0   25247            24                   2              6   \n",
       "32404857  3421083.0   25247            24                   2              6   \n",
       "32404858  3421083.0   25247            24                   2              6   \n",
       "\n",
       "          days_since_prior_order  product_id  add_to_cart_order  reordered  \\\n",
       "0                            8.0     33120.0                  1          1   \n",
       "1                            8.0     28985.0                  2          1   \n",
       "2                            8.0      9327.0                  3          0   \n",
       "3                            8.0     45918.0                  4          1   \n",
       "4                            8.0     30035.0                  5          0   \n",
       "...                          ...         ...                ...        ...   \n",
       "32404854                    21.0     39678.0                  6          1   \n",
       "32404855                    21.0     11352.0                  7          0   \n",
       "32404856                    21.0      4600.0                  8          0   \n",
       "32404857                    21.0     24852.0                  9          1   \n",
       "32404858                    21.0      5020.0                 10          1   \n",
       "\n",
       "          Unnamed: 0  ... first_name    surname  gender   state age  \\\n",
       "0            33122.0  ...       Paul    Coleman    Male   Idaho  57   \n",
       "1            28987.0  ...       Paul    Coleman    Male   Idaho  57   \n",
       "2             9327.0  ...       Paul    Coleman    Male   Idaho  57   \n",
       "3            45922.0  ...       Paul    Coleman    Male   Idaho  57   \n",
       "4            30037.0  ...       Paul    Coleman    Male   Idaho  57   \n",
       "...              ...  ...        ...        ...     ...     ...  ..   \n",
       "32404854     39682.0  ...        nan  Davenport    Male  Alaska  81   \n",
       "32404855     11352.0  ...        nan  Davenport    Male  Alaska  81   \n",
       "32404856      4600.0  ...        nan  Davenport    Male  Alaska  81   \n",
       "32404857     24853.0  ...        nan  Davenport    Male  Alaska  81   \n",
       "32404858      5020.0  ...        nan  Davenport    Male  Alaska  81   \n",
       "\n",
       "         date_joined n_dependants marital_status income _merge  \n",
       "0           2/6/2020            3        married  98119   both  \n",
       "1           2/6/2020            3        married  98119   both  \n",
       "2           2/6/2020            3        married  98119   both  \n",
       "3           2/6/2020            3        married  98119   both  \n",
       "4           2/6/2020            3        married  98119   both  \n",
       "...              ...          ...            ...    ...    ...  \n",
       "32404854    9/9/2018            1        married  54875   both  \n",
       "32404855    9/9/2018            1        married  54875   both  \n",
       "32404856    9/9/2018            1        married  54875   both  \n",
       "32404857    9/9/2018            1        married  54875   both  \n",
       "32404858    9/9/2018            1        married  54875   both  \n",
       "\n",
       "[32404859 rows x 27 columns]>"
      ]
     },
     "execution_count": 12,
     "metadata": {},
     "output_type": "execute_result"
    }
   ],
   "source": [
    "final_OPC.describe"
   ]
  },
  {
   "cell_type": "markdown",
   "id": "aabd9aa8-8a0f-4be4-ad46-909571f785d8",
   "metadata": {},
   "source": [
    "# 2. PII considerations"
   ]
  },
  {
   "cell_type": "code",
   "execution_count": null,
   "id": "0b550152-f5ef-4482-805f-36abbc172945",
   "metadata": {},
   "outputs": [],
   "source": [
    "# The dataframe contains PII sensitive information, such as 'first_name' and 'surname'\n",
    "# These columns will be dropped and ignored, as the column 'user_id' serves as a unique identifier already for the customers"
   ]
  },
  {
   "cell_type": "code",
   "execution_count": 9,
   "id": "7e7194ce-1d84-48e2-b02c-b27ac2a19d89",
   "metadata": {},
   "outputs": [],
   "source": [
    "final_OPC = final_OPC.drop(['first_name', 'surname', '_merge'], axis=1)"
   ]
  },
  {
   "cell_type": "code",
   "execution_count": 11,
   "id": "49abe190-d403-43cc-9d49-fd9e4fb1b36e",
   "metadata": {},
   "outputs": [
    {
     "data": {
      "text/html": [
       "<div>\n",
       "<style scoped>\n",
       "    .dataframe tbody tr th:only-of-type {\n",
       "        vertical-align: middle;\n",
       "    }\n",
       "\n",
       "    .dataframe tbody tr th {\n",
       "        vertical-align: top;\n",
       "    }\n",
       "\n",
       "    .dataframe thead th {\n",
       "        text-align: right;\n",
       "    }\n",
       "</style>\n",
       "<table border=\"1\" class=\"dataframe\">\n",
       "  <thead>\n",
       "    <tr style=\"text-align: right;\">\n",
       "      <th></th>\n",
       "      <th>order_id</th>\n",
       "      <th>user_id</th>\n",
       "      <th>order_number</th>\n",
       "      <th>orders_day_of_week</th>\n",
       "      <th>order_by_hour</th>\n",
       "      <th>days_since_prior_order</th>\n",
       "      <th>product_id</th>\n",
       "      <th>add_to_cart_order</th>\n",
       "      <th>reordered</th>\n",
       "      <th>Unnamed: 0</th>\n",
       "      <th>...</th>\n",
       "      <th>match</th>\n",
       "      <th>busiest_days</th>\n",
       "      <th>busiest_period_of_day</th>\n",
       "      <th>gender</th>\n",
       "      <th>state</th>\n",
       "      <th>age</th>\n",
       "      <th>date_joined</th>\n",
       "      <th>n_dependants</th>\n",
       "      <th>marital_status</th>\n",
       "      <th>income</th>\n",
       "    </tr>\n",
       "  </thead>\n",
       "  <tbody>\n",
       "    <tr>\n",
       "      <th>0</th>\n",
       "      <td>2.0</td>\n",
       "      <td>202279</td>\n",
       "      <td>3</td>\n",
       "      <td>5</td>\n",
       "      <td>9</td>\n",
       "      <td>8.0</td>\n",
       "      <td>33120.0</td>\n",
       "      <td>1</td>\n",
       "      <td>1</td>\n",
       "      <td>33122.0</td>\n",
       "      <td>...</td>\n",
       "      <td>both</td>\n",
       "      <td>normally busy days</td>\n",
       "      <td>most orders</td>\n",
       "      <td>Male</td>\n",
       "      <td>Idaho</td>\n",
       "      <td>57</td>\n",
       "      <td>2/6/2020</td>\n",
       "      <td>3</td>\n",
       "      <td>married</td>\n",
       "      <td>98119</td>\n",
       "    </tr>\n",
       "    <tr>\n",
       "      <th>1</th>\n",
       "      <td>2.0</td>\n",
       "      <td>202279</td>\n",
       "      <td>3</td>\n",
       "      <td>5</td>\n",
       "      <td>9</td>\n",
       "      <td>8.0</td>\n",
       "      <td>28985.0</td>\n",
       "      <td>2</td>\n",
       "      <td>1</td>\n",
       "      <td>28987.0</td>\n",
       "      <td>...</td>\n",
       "      <td>both</td>\n",
       "      <td>normally busy days</td>\n",
       "      <td>most orders</td>\n",
       "      <td>Male</td>\n",
       "      <td>Idaho</td>\n",
       "      <td>57</td>\n",
       "      <td>2/6/2020</td>\n",
       "      <td>3</td>\n",
       "      <td>married</td>\n",
       "      <td>98119</td>\n",
       "    </tr>\n",
       "    <tr>\n",
       "      <th>2</th>\n",
       "      <td>2.0</td>\n",
       "      <td>202279</td>\n",
       "      <td>3</td>\n",
       "      <td>5</td>\n",
       "      <td>9</td>\n",
       "      <td>8.0</td>\n",
       "      <td>9327.0</td>\n",
       "      <td>3</td>\n",
       "      <td>0</td>\n",
       "      <td>9327.0</td>\n",
       "      <td>...</td>\n",
       "      <td>both</td>\n",
       "      <td>normally busy days</td>\n",
       "      <td>most orders</td>\n",
       "      <td>Male</td>\n",
       "      <td>Idaho</td>\n",
       "      <td>57</td>\n",
       "      <td>2/6/2020</td>\n",
       "      <td>3</td>\n",
       "      <td>married</td>\n",
       "      <td>98119</td>\n",
       "    </tr>\n",
       "    <tr>\n",
       "      <th>3</th>\n",
       "      <td>2.0</td>\n",
       "      <td>202279</td>\n",
       "      <td>3</td>\n",
       "      <td>5</td>\n",
       "      <td>9</td>\n",
       "      <td>8.0</td>\n",
       "      <td>45918.0</td>\n",
       "      <td>4</td>\n",
       "      <td>1</td>\n",
       "      <td>45922.0</td>\n",
       "      <td>...</td>\n",
       "      <td>both</td>\n",
       "      <td>normally busy days</td>\n",
       "      <td>most orders</td>\n",
       "      <td>Male</td>\n",
       "      <td>Idaho</td>\n",
       "      <td>57</td>\n",
       "      <td>2/6/2020</td>\n",
       "      <td>3</td>\n",
       "      <td>married</td>\n",
       "      <td>98119</td>\n",
       "    </tr>\n",
       "    <tr>\n",
       "      <th>4</th>\n",
       "      <td>2.0</td>\n",
       "      <td>202279</td>\n",
       "      <td>3</td>\n",
       "      <td>5</td>\n",
       "      <td>9</td>\n",
       "      <td>8.0</td>\n",
       "      <td>30035.0</td>\n",
       "      <td>5</td>\n",
       "      <td>0</td>\n",
       "      <td>30037.0</td>\n",
       "      <td>...</td>\n",
       "      <td>both</td>\n",
       "      <td>normally busy days</td>\n",
       "      <td>most orders</td>\n",
       "      <td>Male</td>\n",
       "      <td>Idaho</td>\n",
       "      <td>57</td>\n",
       "      <td>2/6/2020</td>\n",
       "      <td>3</td>\n",
       "      <td>married</td>\n",
       "      <td>98119</td>\n",
       "    </tr>\n",
       "  </tbody>\n",
       "</table>\n",
       "<p>5 rows × 24 columns</p>\n",
       "</div>"
      ],
      "text/plain": [
       "   order_id user_id  order_number  orders_day_of_week  order_by_hour  \\\n",
       "0       2.0  202279             3                   5              9   \n",
       "1       2.0  202279             3                   5              9   \n",
       "2       2.0  202279             3                   5              9   \n",
       "3       2.0  202279             3                   5              9   \n",
       "4       2.0  202279             3                   5              9   \n",
       "\n",
       "   days_since_prior_order  product_id  add_to_cart_order  reordered  \\\n",
       "0                     8.0     33120.0                  1          1   \n",
       "1                     8.0     28985.0                  2          1   \n",
       "2                     8.0      9327.0                  3          0   \n",
       "3                     8.0     45918.0                  4          1   \n",
       "4                     8.0     30035.0                  5          0   \n",
       "\n",
       "   Unnamed: 0  ... match        busiest_days  busiest_period_of_day  gender  \\\n",
       "0     33122.0  ...  both  normally busy days            most orders    Male   \n",
       "1     28987.0  ...  both  normally busy days            most orders    Male   \n",
       "2      9327.0  ...  both  normally busy days            most orders    Male   \n",
       "3     45922.0  ...  both  normally busy days            most orders    Male   \n",
       "4     30037.0  ...  both  normally busy days            most orders    Male   \n",
       "\n",
       "   state age date_joined n_dependants marital_status  income  \n",
       "0  Idaho  57    2/6/2020            3        married   98119  \n",
       "1  Idaho  57    2/6/2020            3        married   98119  \n",
       "2  Idaho  57    2/6/2020            3        married   98119  \n",
       "3  Idaho  57    2/6/2020            3        married   98119  \n",
       "4  Idaho  57    2/6/2020            3        married   98119  \n",
       "\n",
       "[5 rows x 24 columns]"
      ]
     },
     "execution_count": 11,
     "metadata": {},
     "output_type": "execute_result"
    }
   ],
   "source": [
    "final_OPC.head()"
   ]
  },
  {
   "cell_type": "markdown",
   "id": "f7551358-8a7f-4cd3-8f9b-97192a07ec49",
   "metadata": {},
   "source": [
    "# 3. Creating a regional segmentation of the data"
   ]
  },
  {
   "cell_type": "code",
   "execution_count": 13,
   "id": "8e13ac63-ac8f-4169-ab19-a1b8ceff3a5d",
   "metadata": {},
   "outputs": [],
   "source": [
    "# creating an empty list for the new regions:\n",
    "region = []\n",
    "\n",
    "# creating the conditions:\n",
    "for state in final_OPC[\"state\"]:\n",
    "    if state in ['Maine', 'New Hampshire', 'Vermont', 'Massachusetts', \n",
    "                 'Rhode Island', 'Connecticut', 'New York', 'Pennsylvania', \n",
    "                 'New Jersey']:\n",
    "        region.append(\"Northeast\")\n",
    "    elif state in ['Wisconsin', 'Michigan', 'Illinois', 'Indiana', 'Ohio', \n",
    "                   'North Dakota', 'South Dakota', 'Nebraska', 'Kansas', \n",
    "                   'Minnesota', 'Iowa', 'Missouri']:\n",
    "        region.append(\"Midwest\")\n",
    "    elif state in ['Delaware', 'Maryland', 'District of Columbia', 'Virginia', \n",
    "                   'West Virginia', 'North Carolina', 'South Carolina', 'Georgia', \n",
    "                   'Florida', 'Kentucky', 'Tennessee', 'Mississippi', 'Alabama', \n",
    "                   'Oklahoma', 'Texas', 'Arkansas', 'Louisiana']:\n",
    "        region.append(\"South\")\n",
    "    elif state in ['Idaho', 'Montana', 'Wyoming', 'Nevada', 'Utah', 'Colorado', \n",
    "                   'Arizona', 'New Mexico', 'Alaska', 'Washington', 'Oregon', \n",
    "                   'California', 'Hawaii']:\n",
    "        region.append(\"West\")\n",
    "    else:\n",
    "        region.append(\"Unknown\")"
   ]
  },
  {
   "cell_type": "code",
   "execution_count": 15,
   "id": "1dd4d24c-58aa-4e6a-b445-20dbd7de1112",
   "metadata": {},
   "outputs": [],
   "source": [
    "# Adding the 'region' list as a column:\n",
    "final_OPC['region'] = region"
   ]
  },
  {
   "cell_type": "code",
   "execution_count": 17,
   "id": "caf87995-7df5-40c8-bf72-9385a381d94e",
   "metadata": {},
   "outputs": [
    {
     "data": {
      "text/html": [
       "<div>\n",
       "<style scoped>\n",
       "    .dataframe tbody tr th:only-of-type {\n",
       "        vertical-align: middle;\n",
       "    }\n",
       "\n",
       "    .dataframe tbody tr th {\n",
       "        vertical-align: top;\n",
       "    }\n",
       "\n",
       "    .dataframe thead th {\n",
       "        text-align: right;\n",
       "    }\n",
       "</style>\n",
       "<table border=\"1\" class=\"dataframe\">\n",
       "  <thead>\n",
       "    <tr style=\"text-align: right;\">\n",
       "      <th></th>\n",
       "      <th>order_id</th>\n",
       "      <th>user_id</th>\n",
       "      <th>order_number</th>\n",
       "      <th>orders_day_of_week</th>\n",
       "      <th>order_by_hour</th>\n",
       "      <th>days_since_prior_order</th>\n",
       "      <th>product_id</th>\n",
       "      <th>add_to_cart_order</th>\n",
       "      <th>reordered</th>\n",
       "      <th>Unnamed: 0</th>\n",
       "      <th>...</th>\n",
       "      <th>busiest_days</th>\n",
       "      <th>busiest_period_of_day</th>\n",
       "      <th>gender</th>\n",
       "      <th>state</th>\n",
       "      <th>age</th>\n",
       "      <th>date_joined</th>\n",
       "      <th>n_dependants</th>\n",
       "      <th>marital_status</th>\n",
       "      <th>income</th>\n",
       "      <th>region</th>\n",
       "    </tr>\n",
       "  </thead>\n",
       "  <tbody>\n",
       "    <tr>\n",
       "      <th>0</th>\n",
       "      <td>2.0</td>\n",
       "      <td>202279</td>\n",
       "      <td>3</td>\n",
       "      <td>5</td>\n",
       "      <td>9</td>\n",
       "      <td>8.0</td>\n",
       "      <td>33120.0</td>\n",
       "      <td>1</td>\n",
       "      <td>1</td>\n",
       "      <td>33122.0</td>\n",
       "      <td>...</td>\n",
       "      <td>normally busy days</td>\n",
       "      <td>most orders</td>\n",
       "      <td>Male</td>\n",
       "      <td>Idaho</td>\n",
       "      <td>57</td>\n",
       "      <td>2/6/2020</td>\n",
       "      <td>3</td>\n",
       "      <td>married</td>\n",
       "      <td>98119</td>\n",
       "      <td>West</td>\n",
       "    </tr>\n",
       "    <tr>\n",
       "      <th>1</th>\n",
       "      <td>2.0</td>\n",
       "      <td>202279</td>\n",
       "      <td>3</td>\n",
       "      <td>5</td>\n",
       "      <td>9</td>\n",
       "      <td>8.0</td>\n",
       "      <td>28985.0</td>\n",
       "      <td>2</td>\n",
       "      <td>1</td>\n",
       "      <td>28987.0</td>\n",
       "      <td>...</td>\n",
       "      <td>normally busy days</td>\n",
       "      <td>most orders</td>\n",
       "      <td>Male</td>\n",
       "      <td>Idaho</td>\n",
       "      <td>57</td>\n",
       "      <td>2/6/2020</td>\n",
       "      <td>3</td>\n",
       "      <td>married</td>\n",
       "      <td>98119</td>\n",
       "      <td>West</td>\n",
       "    </tr>\n",
       "    <tr>\n",
       "      <th>2</th>\n",
       "      <td>2.0</td>\n",
       "      <td>202279</td>\n",
       "      <td>3</td>\n",
       "      <td>5</td>\n",
       "      <td>9</td>\n",
       "      <td>8.0</td>\n",
       "      <td>9327.0</td>\n",
       "      <td>3</td>\n",
       "      <td>0</td>\n",
       "      <td>9327.0</td>\n",
       "      <td>...</td>\n",
       "      <td>normally busy days</td>\n",
       "      <td>most orders</td>\n",
       "      <td>Male</td>\n",
       "      <td>Idaho</td>\n",
       "      <td>57</td>\n",
       "      <td>2/6/2020</td>\n",
       "      <td>3</td>\n",
       "      <td>married</td>\n",
       "      <td>98119</td>\n",
       "      <td>West</td>\n",
       "    </tr>\n",
       "    <tr>\n",
       "      <th>3</th>\n",
       "      <td>2.0</td>\n",
       "      <td>202279</td>\n",
       "      <td>3</td>\n",
       "      <td>5</td>\n",
       "      <td>9</td>\n",
       "      <td>8.0</td>\n",
       "      <td>45918.0</td>\n",
       "      <td>4</td>\n",
       "      <td>1</td>\n",
       "      <td>45922.0</td>\n",
       "      <td>...</td>\n",
       "      <td>normally busy days</td>\n",
       "      <td>most orders</td>\n",
       "      <td>Male</td>\n",
       "      <td>Idaho</td>\n",
       "      <td>57</td>\n",
       "      <td>2/6/2020</td>\n",
       "      <td>3</td>\n",
       "      <td>married</td>\n",
       "      <td>98119</td>\n",
       "      <td>West</td>\n",
       "    </tr>\n",
       "    <tr>\n",
       "      <th>4</th>\n",
       "      <td>2.0</td>\n",
       "      <td>202279</td>\n",
       "      <td>3</td>\n",
       "      <td>5</td>\n",
       "      <td>9</td>\n",
       "      <td>8.0</td>\n",
       "      <td>30035.0</td>\n",
       "      <td>5</td>\n",
       "      <td>0</td>\n",
       "      <td>30037.0</td>\n",
       "      <td>...</td>\n",
       "      <td>normally busy days</td>\n",
       "      <td>most orders</td>\n",
       "      <td>Male</td>\n",
       "      <td>Idaho</td>\n",
       "      <td>57</td>\n",
       "      <td>2/6/2020</td>\n",
       "      <td>3</td>\n",
       "      <td>married</td>\n",
       "      <td>98119</td>\n",
       "      <td>West</td>\n",
       "    </tr>\n",
       "  </tbody>\n",
       "</table>\n",
       "<p>5 rows × 25 columns</p>\n",
       "</div>"
      ],
      "text/plain": [
       "   order_id user_id  order_number  orders_day_of_week  order_by_hour  \\\n",
       "0       2.0  202279             3                   5              9   \n",
       "1       2.0  202279             3                   5              9   \n",
       "2       2.0  202279             3                   5              9   \n",
       "3       2.0  202279             3                   5              9   \n",
       "4       2.0  202279             3                   5              9   \n",
       "\n",
       "   days_since_prior_order  product_id  add_to_cart_order  reordered  \\\n",
       "0                     8.0     33120.0                  1          1   \n",
       "1                     8.0     28985.0                  2          1   \n",
       "2                     8.0      9327.0                  3          0   \n",
       "3                     8.0     45918.0                  4          1   \n",
       "4                     8.0     30035.0                  5          0   \n",
       "\n",
       "   Unnamed: 0  ...        busiest_days  busiest_period_of_day  gender  state  \\\n",
       "0     33122.0  ...  normally busy days            most orders    Male  Idaho   \n",
       "1     28987.0  ...  normally busy days            most orders    Male  Idaho   \n",
       "2      9327.0  ...  normally busy days            most orders    Male  Idaho   \n",
       "3     45922.0  ...  normally busy days            most orders    Male  Idaho   \n",
       "4     30037.0  ...  normally busy days            most orders    Male  Idaho   \n",
       "\n",
       "  age date_joined n_dependants marital_status income  region  \n",
       "0  57    2/6/2020            3        married  98119    West  \n",
       "1  57    2/6/2020            3        married  98119    West  \n",
       "2  57    2/6/2020            3        married  98119    West  \n",
       "3  57    2/6/2020            3        married  98119    West  \n",
       "4  57    2/6/2020            3        married  98119    West  \n",
       "\n",
       "[5 rows x 25 columns]"
      ]
     },
     "execution_count": 17,
     "metadata": {},
     "output_type": "execute_result"
    }
   ],
   "source": [
    "final_OPC.head()"
   ]
  },
  {
   "cell_type": "markdown",
   "id": "db29ebc2-8255-4f4e-9b95-0dd9a673c4af",
   "metadata": {},
   "source": [
    "# 3.2 Checking for differences in spending habits between the different U.S. regions"
   ]
  },
  {
   "cell_type": "code",
   "execution_count": 19,
   "id": "158b3355-1f6f-4330-86f4-62655c23706f",
   "metadata": {},
   "outputs": [],
   "source": [
    "# Step 1: Create spending_flag based on median income per user_id\n",
    "median_income = final_OPC.groupby('user_id')['income'].median()  # Calculate median income per user\n",
    "high_income_users = median_income[median_income > median_income.median()].index  # Users above median income\n",
    "low_income_users = median_income[median_income <= median_income.median()].index  # Users at or below median income"
   ]
  },
  {
   "cell_type": "code",
   "execution_count": 21,
   "id": "e2b10d0c-dee7-422c-a55a-57b3710f5a66",
   "metadata": {},
   "outputs": [],
   "source": [
    "# Add spending_flag to the final_OPC dataframe\n",
    "final_OPC['spending_flag'] = final_OPC['user_id'].apply(lambda x: 'high income' if x in high_income_users else 'low income')"
   ]
  },
  {
   "cell_type": "code",
   "execution_count": 23,
   "id": "96a0c9a4-a467-41ed-8bf2-232afc6772c4",
   "metadata": {},
   "outputs": [],
   "source": [
    "# Step 2: Distinct on user_id level\n",
    "df_distinct_user = final_OPC.drop_duplicates(subset='user_id')"
   ]
  },
  {
   "cell_type": "code",
   "execution_count": 25,
   "id": "efe8d7ae-8d84-4b1c-b404-81c1c98624ef",
   "metadata": {},
   "outputs": [],
   "source": [
    "# Crosstab for user_id level (Region vs Spending Flag)\n",
    "crosstab_user = pd.crosstab(df_distinct_user['region'], df_distinct_user['spending_flag'], dropna=False)"
   ]
  },
  {
   "cell_type": "code",
   "execution_count": 27,
   "id": "3da70257-73ac-41cc-bf5b-5d0785dcfcf2",
   "metadata": {},
   "outputs": [],
   "source": [
    "# Step 3: Distinct on order_id level\n",
    "df_distinct_order = final_OPC.drop_duplicates(subset='order_id')"
   ]
  },
  {
   "cell_type": "code",
   "execution_count": 29,
   "id": "5eb1ef40-9656-4c7e-909f-599477156f9b",
   "metadata": {},
   "outputs": [],
   "source": [
    "# Crosstab for order_id level (Region vs Spending Flag)\n",
    "crosstab_order = pd.crosstab(df_distinct_order['region'], df_distinct_order['spending_flag'], dropna=False)"
   ]
  },
  {
   "cell_type": "code",
   "execution_count": 31,
   "id": "92154abb-570b-464c-a071-9d0ece870a87",
   "metadata": {},
   "outputs": [
    {
     "name": "stdout",
     "output_type": "stream",
     "text": [
      "Crosstab for distinct user_id level:\n",
      "spending_flag  high income  low income\n",
      "region                                \n",
      "Midwest              24389       24130\n",
      "Northeast            18396       17992\n",
      "South                34181       34556\n",
      "West                 26137       26428\n",
      "\n",
      "Crosstab for distinct order_id level:\n",
      "spending_flag  high income  low income\n",
      "region                                \n",
      "Midwest             393558      360717\n",
      "Northeast           293878      273284\n",
      "South               547730      523832\n",
      "West                422416      399270\n"
     ]
    }
   ],
   "source": [
    "# Display the crosstabs\n",
    "print(\"Crosstab for distinct user_id level:\")\n",
    "print(crosstab_user)\n",
    "\n",
    "print(\"\\nCrosstab for distinct order_id level:\")\n",
    "print(crosstab_order)"
   ]
  },
  {
   "cell_type": "code",
   "execution_count": null,
   "id": "dfadeccf-ce7b-4fa6-b8f2-485e425c168e",
   "metadata": {},
   "outputs": [],
   "source": [
    "# There does not seem to be a significant difference between both of the income groups\n",
    "# I wanted to check again using the quartiles in order to avoid getting faulty data due to outliers, as it is the case above"
   ]
  },
  {
   "cell_type": "code",
   "execution_count": 33,
   "id": "876933c5-7cc5-4605-a49d-1e9b4189d8ec",
   "metadata": {},
   "outputs": [],
   "source": [
    "# Ensure income is numeric\n",
    "final_OPC['income'] = pd.to_numeric(final_OPC['income'], errors='coerce')"
   ]
  },
  {
   "cell_type": "code",
   "execution_count": 35,
   "id": "13fd0aec-2727-48f5-b08d-6ef2dabec7ae",
   "metadata": {},
   "outputs": [],
   "source": [
    "# Calculate the income quantiles\n",
    "q1 = final_OPC['income'].quantile(0.25)  # Bottom 25%\n",
    "q3 = final_OPC['income'].quantile(0.75)  # Top 25%"
   ]
  },
  {
   "cell_type": "code",
   "execution_count": 37,
   "id": "2c6ed233-1c5a-4b76-b019-ea6471844264",
   "metadata": {},
   "outputs": [],
   "source": [
    "# Create a new column 'spending_flag' based on quantiles\n",
    "final_OPC['spending_flag'] = 'middle income'  # Default to middle income\n",
    "final_OPC.loc[final_OPC['income'] > q3, 'spending_flag'] = 'high income'\n",
    "final_OPC.loc[final_OPC['income'] <= q1, 'spending_flag'] = 'low income'"
   ]
  },
  {
   "cell_type": "code",
   "execution_count": 39,
   "id": "1f917813-d326-4840-a4d9-fb0d69a64b86",
   "metadata": {},
   "outputs": [],
   "source": [
    "# Distinct on user_id level\n",
    "df_distinct_user = final_OPC.drop_duplicates(subset='user_id')"
   ]
  },
  {
   "cell_type": "code",
   "execution_count": 41,
   "id": "ac0073c3-f935-4ba7-82f7-17a192b1e86d",
   "metadata": {},
   "outputs": [],
   "source": [
    "# Crosstab for user_id level (Region vs Spending Flag)\n",
    "crosstab_user = pd.crosstab(df_distinct_user['region'], df_distinct_user['spending_flag'], dropna=False)"
   ]
  },
  {
   "cell_type": "code",
   "execution_count": 43,
   "id": "a4b98056-38c3-4d20-9436-090be3121831",
   "metadata": {},
   "outputs": [],
   "source": [
    "# Distinct on order_id level\n",
    "df_distinct_order = final_OPC.drop_duplicates(subset='order_id')"
   ]
  },
  {
   "cell_type": "code",
   "execution_count": 45,
   "id": "8478eca9-f93d-45c7-b273-8613c4960e4b",
   "metadata": {},
   "outputs": [],
   "source": [
    "# Crosstab for order_id level (Region vs Spending Flag)\n",
    "crosstab_order = pd.crosstab(df_distinct_order['region'], df_distinct_order['spending_flag'], dropna=False)"
   ]
  },
  {
   "cell_type": "code",
   "execution_count": 47,
   "id": "01535e54-c18e-4529-bd03-ffdd1875f273",
   "metadata": {},
   "outputs": [
    {
     "name": "stdout",
     "output_type": "stream",
     "text": [
      "Crosstab for distinct user_id level:\n",
      "spending_flag  high income  low income  middle income\n",
      "region                                               \n",
      "Midwest              11284       14789          22446\n",
      "Northeast             8525       11029          16834\n",
      "South                15663       21084          31990\n",
      "West                 12070       16264          24231\n",
      "\n",
      "Crosstab for distinct order_id level:\n",
      "spending_flag  high income  low income  middle income\n",
      "region                                               \n",
      "Midwest             184021      210166         360088\n",
      "Northeast           135502      160814         270846\n",
      "South               253320      304877         513365\n",
      "West                195114      233266         393306\n"
     ]
    }
   ],
   "source": [
    "# Display the crosstabs\n",
    "print(\"Crosstab for distinct user_id level:\")\n",
    "print(crosstab_user)\n",
    "\n",
    "print(\"\\nCrosstab for distinct order_id level:\")\n",
    "print(crosstab_order)"
   ]
  },
  {
   "cell_type": "code",
   "execution_count": null,
   "id": "d763bea6-1415-4218-9fe7-1d131998b7ca",
   "metadata": {},
   "outputs": [],
   "source": [
    "# These results show more clear differences between the diffirent incomes\n",
    "# Most high/middle income customers seem to reside in the South\n",
    "# While most low income customers are residing in the Northeast region"
   ]
  },
  {
   "cell_type": "markdown",
   "id": "855d1d06-c943-487b-b3d9-4229d95c5bc4",
   "metadata": {},
   "source": [
    "# 4. Creating an exclusion flag for low-activity customers"
   ]
  },
  {
   "cell_type": "code",
   "execution_count": 49,
   "id": "c15b0f24-947f-4dc7-aff7-d8094ee74482",
   "metadata": {},
   "outputs": [
    {
     "name": "stderr",
     "output_type": "stream",
     "text": [
      "C:\\Users\\geram\\AppData\\Local\\Temp\\ipykernel_6560\\3304991543.py:2: FutureWarning: The provided callable <function max at 0x0000023E06C984A0> is currently using SeriesGroupBy.max. In a future version of pandas, the provided callable will be used directly. To keep current behavior pass the string \"max\" instead.\n",
      "  final_OPC['max_order'] = final_OPC.groupby(['user_id'])['order_number'].transform(np.max)\n"
     ]
    }
   ],
   "source": [
    "# Creating a new column 'max_order'\n",
    "final_OPC['max_order'] = final_OPC.groupby(['user_id'])['order_number'].transform(np.max)"
   ]
  },
  {
   "cell_type": "code",
   "execution_count": 51,
   "id": "e1ad5345-d419-4370-abd9-61a84745691b",
   "metadata": {},
   "outputs": [],
   "source": [
    "# creating an exclusion flag for low activity (less than 5 orders)\n",
    "\n",
    "final_OPC.loc[final_OPC['max_order'] < 5, 'exclusion_flag'] = 'Low-activity customer'"
   ]
  },
  {
   "cell_type": "code",
   "execution_count": 53,
   "id": "0b763c14-497a-4d6f-b83e-7c015b916ed4",
   "metadata": {},
   "outputs": [],
   "source": [
    "# creating an exclusion flag for customer with 5 or more orders\n",
    "\n",
    "final_OPC.loc[final_OPC['max_order'] >= 5, 'exclusion_flag'] = 'High-activity customer'"
   ]
  },
  {
   "cell_type": "code",
   "execution_count": 55,
   "id": "ecf53510-9405-42bd-9748-05905b0e7f73",
   "metadata": {},
   "outputs": [
    {
     "data": {
      "text/plain": [
       "exclusion_flag\n",
       "High-activity customer    30964564\n",
       "Low-activity customer      1440295\n",
       "Name: count, dtype: int64"
      ]
     },
     "execution_count": 55,
     "metadata": {},
     "output_type": "execute_result"
    }
   ],
   "source": [
    "# Overview:\n",
    "final_OPC['exclusion_flag'].value_counts()"
   ]
  },
  {
   "cell_type": "code",
   "execution_count": null,
   "id": "096097c7-7301-465c-8c1a-32cbfc9e9701",
   "metadata": {},
   "outputs": [],
   "source": [
    "# There are more customers ordering 5 or more times (high-activity customers) than those ordering less than 5 orders"
   ]
  },
  {
   "cell_type": "code",
   "execution_count": 57,
   "id": "b5327ea5-10ad-41eb-8937-160a9f2afe2f",
   "metadata": {},
   "outputs": [],
   "source": [
    "# Filter out low-activity customers\n",
    "high_activity_customers = final_OPC[final_OPC['exclusion_flag'] == 'High-activity customer']"
   ]
  },
  {
   "cell_type": "code",
   "execution_count": 59,
   "id": "edd81627-bc3c-4a20-9633-708639d0a78d",
   "metadata": {},
   "outputs": [],
   "source": [
    "# Export the filtered data to a pkl file\n",
    "high_activity_customers.to_pickle(os.path.join(path, '02 Data','Prepared Data', 'high_activity_customers_sample.pkl'))"
   ]
  },
  {
   "cell_type": "markdown",
   "id": "01edaed3-fe94-426b-94df-490e5d82255a",
   "metadata": {},
   "source": [
    "# 5. Creating profiling variables for age, income and n_dependants as well as visualizations for them:"
   ]
  },
  {
   "cell_type": "code",
   "execution_count": 61,
   "id": "370463d9-7337-4f8d-804a-8b3e608f4275",
   "metadata": {},
   "outputs": [
    {
     "data": {
      "text/plain": [
       "count    3.096456e+07\n",
       "mean     9.967587e+04\n",
       "std      4.314187e+04\n",
       "min      2.590300e+04\n",
       "25%      6.729200e+04\n",
       "50%      9.676500e+04\n",
       "75%      1.281020e+05\n",
       "max      5.939010e+05\n",
       "Name: income, dtype: float64"
      ]
     },
     "execution_count": 61,
     "metadata": {},
     "output_type": "execute_result"
    }
   ],
   "source": [
    "high_activity_customers['income'].describe()"
   ]
  },
  {
   "cell_type": "code",
   "execution_count": 63,
   "id": "93b6ffcc-097e-4837-a440-e4c385316740",
   "metadata": {},
   "outputs": [
    {
     "name": "stderr",
     "output_type": "stream",
     "text": [
      "C:\\Users\\geram\\AppData\\Local\\Temp\\ipykernel_6560\\3713585161.py:2: SettingWithCopyWarning: \n",
      "A value is trying to be set on a copy of a slice from a DataFrame.\n",
      "Try using .loc[row_indexer,col_indexer] = value instead\n",
      "\n",
      "See the caveats in the documentation: https://pandas.pydata.org/pandas-docs/stable/user_guide/indexing.html#returning-a-view-versus-a-copy\n",
      "  high_activity_customers.loc[high_activity_customers['income'] <= 67000, 'income_group'] = 'low-income'\n"
     ]
    }
   ],
   "source": [
    "# Income Groups:\n",
    "high_activity_customers.loc[high_activity_customers['income'] <= 67000, 'income_group'] = 'low-income'\n",
    "high_activity_customers.loc[(high_activity_customers['income'] > 67000) & (high_activity_customers['income'] <= 128100), 'income_group'] = 'middle-income'\n",
    "high_activity_customers.loc[high_activity_customers['income'] > 128100, 'income_group'] = 'high-income'"
   ]
  },
  {
   "cell_type": "code",
   "execution_count": 65,
   "id": "5a0d294b-d7ce-4f61-8b0b-9c0fcba4fdaa",
   "metadata": {},
   "outputs": [
    {
     "data": {
      "text/plain": [
       "income_group\n",
       "middle-income    15561559\n",
       "high-income       7741527\n",
       "low-income        7661478\n",
       "Name: count, dtype: int64"
      ]
     },
     "execution_count": 65,
     "metadata": {},
     "output_type": "execute_result"
    }
   ],
   "source": [
    "# Count the number of customers in each income group\n",
    "high_activity_customers['income_group'].value_counts()"
   ]
  },
  {
   "cell_type": "code",
   "execution_count": 67,
   "id": "2f0f71be-c218-4863-a4af-6ab33e1ec796",
   "metadata": {},
   "outputs": [],
   "source": [
    "income_group_counts = high_activity_customers['income_group'].value_counts()"
   ]
  },
  {
   "cell_type": "code",
   "execution_count": 69,
   "id": "c0f2da7e-989b-4f27-8628-aef3eb7205e9",
   "metadata": {},
   "outputs": [
    {
     "name": "stderr",
     "output_type": "stream",
     "text": [
      "C:\\Users\\geram\\AppData\\Local\\Temp\\ipykernel_6560\\2456335773.py:2: FutureWarning: \n",
      "\n",
      "Passing `palette` without assigning `hue` is deprecated and will be removed in v0.14.0. Assign the `x` variable to `hue` and set `legend=False` for the same effect.\n",
      "\n",
      "  sns.barplot(x=income_group_counts.index, y=income_group_counts.values, palette=\"viridis\")\n"
     ]
    },
    {
     "data": {
      "text/plain": [
       "<Axes: xlabel='income_group'>"
      ]
     },
     "execution_count": 69,
     "metadata": {},
     "output_type": "execute_result"
    },
    {
     "data": {
      "image/png": "[encoded data removed]",
      "text/plain": [
       "<Figure size 1000x600 with 1 Axes>"
      ]
     },
     "metadata": {},
     "output_type": "display_data"
    }
   ],
   "source": [
    "plt_1 = plt.figure(figsize=(10, 6))\n",
    "sns.barplot(x=income_group_counts.index, y=income_group_counts.values, palette=\"viridis\")"
   ]
  },
  {
   "cell_type": "code",
   "execution_count": null,
   "id": "b7bf084e-bb9c-4c44-a1ec-c53081a918f0",
   "metadata": {},
   "outputs": [],
   "source": [
    "# The majority of customers belong to the 'middle-income' category"
   ]
  },
  {
   "cell_type": "code",
   "execution_count": null,
   "id": "755263e6-7c54-4779-b183-3627638858c9",
   "metadata": {},
   "outputs": [],
   "source": [
    "plt_1.savefig(os.path.join(path, '04 Analysis', 'Visualizations', 'income_group_bar.png'), dpi=300)"
   ]
  },
  {
   "cell_type": "code",
   "execution_count": 71,
   "id": "93f1e74c-a9be-451b-82c7-38bec05edede",
   "metadata": {},
   "outputs": [
    {
     "data": {
      "text/plain": [
       "count    3.096456e+07\n",
       "mean     4.946803e+01\n",
       "std      1.848528e+01\n",
       "min      1.800000e+01\n",
       "25%      3.300000e+01\n",
       "50%      4.900000e+01\n",
       "75%      6.500000e+01\n",
       "max      8.100000e+01\n",
       "Name: age, dtype: float64"
      ]
     },
     "execution_count": 71,
     "metadata": {},
     "output_type": "execute_result"
    }
   ],
   "source": [
    "high_activity_customers['age'].describe()"
   ]
  },
  {
   "cell_type": "code",
   "execution_count": 73,
   "id": "50559ea4-cd79-47c3-bba1-4eaf5c3993d6",
   "metadata": {},
   "outputs": [
    {
     "name": "stderr",
     "output_type": "stream",
     "text": [
      "C:\\Users\\geram\\AppData\\Local\\Temp\\ipykernel_6560\\4059930960.py:2: SettingWithCopyWarning: \n",
      "A value is trying to be set on a copy of a slice from a DataFrame.\n",
      "Try using .loc[row_indexer,col_indexer] = value instead\n",
      "\n",
      "See the caveats in the documentation: https://pandas.pydata.org/pandas-docs/stable/user_guide/indexing.html#returning-a-view-versus-a-copy\n",
      "  high_activity_customers.loc[high_activity_customers['age'] <= 18, 'age_group'] = 'young_adult'\n"
     ]
    }
   ],
   "source": [
    "# Age Groups:\n",
    "high_activity_customers.loc[high_activity_customers['age'] <= 18, 'age_group'] = 'young_adult'\n",
    "high_activity_customers.loc[(high_activity_customers['age'] > 18) & (high_activity_customers['age'] <= 65), 'age_group'] = 'adult'\n",
    "high_activity_customers.loc[high_activity_customers['age'] > 65, 'age_group'] = 'senior_adult'"
   ]
  },
  {
   "cell_type": "code",
   "execution_count": 75,
   "id": "1e1fb298-b590-41bb-b1d9-6a538144e3f2",
   "metadata": {},
   "outputs": [
    {
     "data": {
      "text/plain": [
       "age_group\n",
       "adult           22755273\n",
       "senior_adult     7730834\n",
       "young_adult       478457\n",
       "Name: count, dtype: int64"
      ]
     },
     "execution_count": 75,
     "metadata": {},
     "output_type": "execute_result"
    }
   ],
   "source": [
    "high_activity_customers['age_group'].value_counts()"
   ]
  },
  {
   "cell_type": "code",
   "execution_count": 77,
   "id": "f7fcbe1b-fa6b-4c9b-b2fe-25058a68bfc4",
   "metadata": {},
   "outputs": [],
   "source": [
    "age_group_counts = high_activity_customers['age_group'].value_counts()"
   ]
  },
  {
   "cell_type": "code",
   "execution_count": 79,
   "id": "92c54220-beeb-42a3-aaa4-962f90133631",
   "metadata": {},
   "outputs": [
    {
     "data": {
      "text/plain": [
       "([<matplotlib.patches.Wedge at 0x23ea7e282f0>,\n",
       "  <matplotlib.patches.Wedge at 0x23ea7e5e9f0>,\n",
       "  <matplotlib.patches.Wedge at 0x23eab8961e0>],\n",
       " [Text(0.0437342155035544, -1.0991302554266664, 'adult'),\n",
       "  Text(0.009651782593535147, 1.099957655136218, 'senior_adult'),\n",
       "  Text(-0.8073462424848706, 0.7471225098640522, 'young_adult')],\n",
       " [Text(0.023855026638302395, -0.5995255938690907, '73.5%'),\n",
       "  Text(0.0052646086873828065, 0.5999769028015735, '25.0%'),\n",
       "  Text(-0.4403706777190203, 0.4075213690167557, '1.5%')])"
      ]
     },
     "execution_count": 79,
     "metadata": {},
     "output_type": "execute_result"
    },
    {
     "data": {
      "image/png": "[encoded data removed]",
      "text/plain": [
       "<Figure size 800x800 with 1 Axes>"
      ]
     },
     "metadata": {},
     "output_type": "display_data"
    }
   ],
   "source": [
    "plt_2 = plt.figure(figsize=(8, 8))\n",
    "plt.pie(age_group_counts, labels=age_group_counts.index, autopct='%1.1f%%', startangle=140, colors=['#66c2a5', '#fc8d62', '#8da0cb'])"
   ]
  },
  {
   "cell_type": "code",
   "execution_count": null,
   "id": "dbb1bf3d-dc2d-49d6-8b82-b5f97ad9762c",
   "metadata": {},
   "outputs": [],
   "source": [
    "plt_2.savefig(os.path.join(path, '04 Analysis', 'Visualizations', 'age_group_pie.png'), dpi=300)"
   ]
  },
  {
   "cell_type": "code",
   "execution_count": 81,
   "id": "af42008a-00f4-499e-b2ec-78c4e5aa2905",
   "metadata": {},
   "outputs": [
    {
     "data": {
      "text/plain": [
       "count    3.096456e+07\n",
       "mean     1.501819e+00\n",
       "std      1.118896e+00\n",
       "min      0.000000e+00\n",
       "25%      1.000000e+00\n",
       "50%      2.000000e+00\n",
       "75%      3.000000e+00\n",
       "max      3.000000e+00\n",
       "Name: n_dependants, dtype: float64"
      ]
     },
     "execution_count": 81,
     "metadata": {},
     "output_type": "execute_result"
    }
   ],
   "source": [
    "high_activity_customers['n_dependants'].describe()"
   ]
  },
  {
   "cell_type": "code",
   "execution_count": 83,
   "id": "f75f9eb4-649d-4e49-96fa-d6565015f726",
   "metadata": {},
   "outputs": [
    {
     "name": "stderr",
     "output_type": "stream",
     "text": [
      "C:\\Users\\geram\\AppData\\Local\\Temp\\ipykernel_6560\\3761215467.py:2: SettingWithCopyWarning: \n",
      "A value is trying to be set on a copy of a slice from a DataFrame.\n",
      "Try using .loc[row_indexer,col_indexer] = value instead\n",
      "\n",
      "See the caveats in the documentation: https://pandas.pydata.org/pandas-docs/stable/user_guide/indexing.html#returning-a-view-versus-a-copy\n",
      "  high_activity_customers.loc[high_activity_customers['n_dependants'] == 0, 'family_status'] = 'single'\n"
     ]
    }
   ],
   "source": [
    "# n_dependants Groups:\n",
    "high_activity_customers.loc[high_activity_customers['n_dependants'] == 0, 'family_status'] = 'single'\n",
    "high_activity_customers.loc[high_activity_customers['n_dependants'] > 0, 'family_status'] = 'family'"
   ]
  },
  {
   "cell_type": "code",
   "execution_count": 85,
   "id": "5fad487c-23af-4389-a5c6-b87082454518",
   "metadata": {},
   "outputs": [],
   "source": [
    "family_status_counts = high_activity_customers['family_status'].value_counts()"
   ]
  },
  {
   "cell_type": "code",
   "execution_count": 87,
   "id": "f6313840-9b2d-44e6-bb56-a6c26d143358",
   "metadata": {},
   "outputs": [
    {
     "name": "stderr",
     "output_type": "stream",
     "text": [
      "C:\\Users\\geram\\AppData\\Local\\Temp\\ipykernel_6560\\1267490530.py:2: FutureWarning: \n",
      "\n",
      "Passing `palette` without assigning `hue` is deprecated and will be removed in v0.14.0. Assign the `x` variable to `hue` and set `legend=False` for the same effect.\n",
      "\n",
      "  sns.barplot(x=family_status_counts.index, y=family_status_counts.values, palette=\"viridis\")\n"
     ]
    },
    {
     "data": {
      "text/plain": [
       "<Axes: xlabel='family_status'>"
      ]
     },
     "execution_count": 87,
     "metadata": {},
     "output_type": "execute_result"
    },
    {
     "data": {
      "image/png": "[encoded data removed]",
      "text/plain": [
       "<Figure size 1000x600 with 1 Axes>"
      ]
     },
     "metadata": {},
     "output_type": "display_data"
    }
   ],
   "source": [
    "plt_3 = plt.figure(figsize=(10, 6))\n",
    "sns.barplot(x=family_status_counts.index, y=family_status_counts.values, palette=\"viridis\")"
   ]
  },
  {
   "cell_type": "code",
   "execution_count": null,
   "id": "9c9319ec-4b7c-4755-917e-b299167f2305",
   "metadata": {},
   "outputs": [],
   "source": [
    "plt_3.savefig(os.path.join(path, '04 Analysis', 'Visualizations', 'Family_status_bar.png'), dpi=300)"
   ]
  },
  {
   "cell_type": "code",
   "execution_count": null,
   "id": "dde7966c-d1a3-44be-ae2a-ed915c432e29",
   "metadata": {},
   "outputs": [],
   "source": [
    "# The majority of clients belong to the family category"
   ]
  },
  {
   "cell_type": "code",
   "execution_count": null,
   "id": "0884b58f-5f68-49ed-b804-2970358366c5",
   "metadata": {},
   "outputs": [],
   "source": []
  },
  {
   "cell_type": "code",
   "execution_count": null,
   "id": "a8d97097-d28f-45ee-b1f4-a98033cc78ed",
   "metadata": {},
   "outputs": [],
   "source": []
  },
  {
   "cell_type": "code",
   "execution_count": null,
   "id": "123b2dee-2884-4b6c-bc82-517739068f6c",
   "metadata": {},
   "outputs": [],
   "source": []
  },
  {
   "cell_type": "code",
   "execution_count": null,
   "id": "2ccb87f1-22d8-4949-97d2-8c76a31a4c40",
   "metadata": {},
   "outputs": [],
   "source": []
  },
  {
   "cell_type": "code",
   "execution_count": null,
   "id": "9b872773-eabb-4ee4-876a-e6ef8f44b720",
   "metadata": {},
   "outputs": [],
   "source": []
  },
  {
   "cell_type": "code",
   "execution_count": null,
   "id": "e708c506-fb83-484e-aa4b-d6a6a19844d1",
   "metadata": {},
   "outputs": [],
   "source": []
  }
 ],
 "metadata": {
  "kernelspec": {
   "display_name": "Python 3 (ipykernel)",
   "language": "python",
   "name": "python3"
  },
  "language_info": {
   "codemirror_mode": {
    "name": "ipython",
    "version": 3
   },
   "file_extension": ".py",
   "mimetype": "text/x-python",
   "name": "python",
   "nbconvert_exporter": "python",
   "pygments_lexer": "ipython3",
   "version": "3.12.7"
  }
 },
 "nbformat": 4,
 "nbformat_minor": 5
}
